{
 "cells": [
  {
   "cell_type": "code",
   "execution_count": null,
   "metadata": {},
   "outputs": [
    {
     "data": {
      "text/plain": [
       "[{'reviewId': '595da86c-acc1-4a64-ae43-90ff85eaf53d',\n",
       "  'userName': 'Pengguna Google',\n",
       "  'userImage': 'https://play-lh.googleusercontent.com/EGemoI2NTXmTsBVtJqk8jxF9rh8ApRWfsIMQSt2uE4OcpQqbFu7f7NbTK05lx80nuSijCz7sc3a277R67g',\n",
       "  'content': 'terlalu terlalu terlalu... apk yg tidak bisa di percaya. kuota cepat abis minta update terus. tp bug tmbah banyak. hp jd lelet !!!.. kok bisa nyuri data pribadi ya... diliat dari apk yg terus berjln dilatar belakang dan terus mengirim data. tp g tau data ap yg dikirim ?? wah wah wah... bahaya bobol bisa atm wkwkwk',\n",
       "  'score': 1,\n",
       "  'thumbsUpCount': 1,\n",
       "  'reviewCreatedVersion': '4.31.1',\n",
       "  'at': datetime.datetime(2022, 4, 21, 20, 37, 7),\n",
       "  'replyContent': 'Hai, mohon maaf atas kendala yang kamu alami. Mengenai kendala tersebut, silakan laporkan melalui email ke customerservice@go-jek.com dengan melampirkan kode psr-22-112-0133-51987 pada subject email agar tim kami bisa bantu cek lebih lanjut. ^Viska',\n",
       "  'repliedAt': datetime.datetime(2022, 4, 22, 8, 33, 31),\n",
       "  'appVersion': '4.31.1'},\n",
       " {'reviewId': '9f871c14-7d44-4f0d-8cbe-9904d42cf3b6',\n",
       "  'userName': 'Pengguna Google',\n",
       "  'userImage': 'https://play-lh.googleusercontent.com/EGemoI2NTXmTsBVtJqk8jxF9rh8ApRWfsIMQSt2uE4OcpQqbFu7f7NbTK05lx80nuSijCz7sc3a277R67g',\n",
       "  'content': 'Gak usah pasang tarif tarif hemat, soalnya para driver nya gak ada yang mau ambil orderan, dengan alasan gak sesuai dengan harga, dan bahasa mereka merendahkan costumer, karena pesen yg paket hemat, trs knp di adain paket hemat, yg salah yg punya aplikasi lah, pengen kasih promo tapi para driver nya gak mau.',\n",
       "  'score': 1,\n",
       "  'thumbsUpCount': 287,\n",
       "  'reviewCreatedVersion': '5.14.2',\n",
       "  'at': datetime.datetime(2025, 3, 21, 21, 44, 12),\n",
       "  'replyContent': 'Hai Kak Evi, mohon maaf atas ketidaknyamanannya. Laporan yang kamu sampaikan akan menjadi masukan bagi kami untuk terus meningkatkan kualitas layanan kami ke depannya. Jika kamu memiliki pertanyaan atau kendala lainnya, silakan kunjungi menu Bantuan di aplikasi Gojek kamu. ^Maura',\n",
       "  'repliedAt': datetime.datetime(2025, 3, 21, 22, 5, 1),\n",
       "  'appVersion': '5.14.2'},\n",
       " {'reviewId': '825e4595-c073-4388-8229-415e372b6c01',\n",
       "  'userName': 'Pengguna Google',\n",
       "  'userImage': 'https://play-lh.googleusercontent.com/EGemoI2NTXmTsBVtJqk8jxF9rh8ApRWfsIMQSt2uE4OcpQqbFu7f7NbTK05lx80nuSijCz7sc3a277R67g',\n",
       "  'content': 'tinggal 2menit lg driver sampe di lokasi tiba-tiba dibatalin otomatis sama aplikasinya!!! tau tau udah mencari driver yg baru, dan ini kejadian gak sekali dua kali tapi sering! map jg sering di arahin ke jalan yg sulit di lewati mobil!! alhasil banyak yg batalin! komplain via chat cuma bot doang, Kita yg mo complain gak bisa ketik sendiri masalahnya, mo complain lewat email atau tlp jg gak bisa!!! aplikasi gak niat terima komplain!!!',\n",
       "  'score': 1,\n",
       "  'thumbsUpCount': 133,\n",
       "  'reviewCreatedVersion': '5.14.2',\n",
       "  'at': datetime.datetime(2025, 3, 26, 7, 35, 56),\n",
       "  'replyContent': 'Hai Kak Wahyu, mohon maaf atas ketidaknyamanannya. Laporan yang kamu sampaikan akan menjadi masukan bagi kami untuk terus meningkatkan kualitas layanan kami ke depannya. Jika masih berkendala, silakan laporkan ke email customerservice@gojek.com dengan kode psr-25-085-0426-36402 di subject email. Kami tunggu detail laporan kamu ya. ^Melisa',\n",
       "  'repliedAt': datetime.datetime(2025, 3, 26, 11, 26, 47),\n",
       "  'appVersion': '5.14.2'},\n",
       " {'reviewId': 'b95ca280-16aa-43a0-87c2-a2143ecba65d',\n",
       "  'userName': 'Pengguna Google',\n",
       "  'userImage': 'https://play-lh.googleusercontent.com/EGemoI2NTXmTsBVtJqk8jxF9rh8ApRWfsIMQSt2uE4OcpQqbFu7f7NbTK05lx80nuSijCz7sc3a277R67g',\n",
       "  'content': 'Setelah Update makin ancur aja nih, dalam 20 hari 3 kali update dan setelah Update yg ke 3 kalinya aplikasi gak bisa di buka selalu kembali menutup dengan sendirinya belum muncul vitur2 yg ada pada aplikasi, padahal masih kompatibel dengan perangkat yg digunakan.Tolonglah kepada pengembang Aplikasi untuk segera diperbaiki....',\n",
       "  'score': 5,\n",
       "  'thumbsUpCount': 74,\n",
       "  'reviewCreatedVersion': '5.14.2',\n",
       "  'at': datetime.datetime(2025, 4, 5, 23, 22, 33),\n",
       "  'replyContent': 'Hai Kak Wanro, mohon maaf atas ketidaknyamanannya. Sebelum login, pastikan kamu sudah pakai Gojek versi terbaru, dan tidak ada kendala pada akun Gojek kamu. Jika masih bermasalah, silakan laporkan detailnya melalui email ke customerservice@gojek.com dan mencantumkan kode psr-24-0023-0137-05268 pada subjek email yang dikirimkan. ^Ve',\n",
       "  'repliedAt': datetime.datetime(2024, 1, 23, 8, 37, 39),\n",
       "  'appVersion': '5.14.2'},\n",
       " {'reviewId': 'ca02be83-772a-480a-a36c-7363e8176146',\n",
       "  'userName': 'Pengguna Google',\n",
       "  'userImage': 'https://play-lh.googleusercontent.com/EGemoI2NTXmTsBVtJqk8jxF9rh8ApRWfsIMQSt2uE4OcpQqbFu7f7NbTK05lx80nuSijCz7sc3a277R67g',\n",
       "  'content': 'susah untuk dpt driver walaupun di map ada banyak driver yg gak jalan, sekalinya hujan harga langsung melonjak drastis setiap merefresh, ada pilihan hemat namun harga lebih mahal daripada yg biasa dan percuma tidak akan ada driver yg ambil orderannya,sudah memilih dari yg murah sampai paling mahal namun tetap saja nihil🥴, dulu enak sekarang makin buruk',\n",
       "  'score': 1,\n",
       "  'thumbsUpCount': 32,\n",
       "  'reviewCreatedVersion': '5.14.2',\n",
       "  'at': datetime.datetime(2025, 4, 3, 17, 14, 6),\n",
       "  'replyContent': 'Mohon maaf atas kendalanya, Kak @Pacar mammon Uwuh. Kesulitan mendapatkan driver bisa terjadi karena meningkatnya jumlah pesanan di jam sibuk, atau tidak ada driver di dekat titik penjemputan. Mohon menunggu beberapa saat dan coba kembali, ya. Jika ada pertanyaan lain, silakan kunjungi menu Bantuan pada aplikasi Gojek-mu, ya. ^Miko',\n",
       "  'repliedAt': datetime.datetime(2025, 4, 4, 1, 5, 46),\n",
       "  'appVersion': '5.14.2'}]"
      ]
     },
     "execution_count": 2,
     "metadata": {},
     "output_type": "execute_result"
    }
   ],
   "source": [
    "# Mengimpor pustaka google_play_scraper untuk mengakses ulasan dan informasi aplikasi dari Google Play Store.\n",
    "from google_play_scraper import app, reviews, Sort, reviews_all\n",
    "\n",
    "# Mengambil semua ulasan dari aplikasi Gojek dengan ID 'com.gojek.app' di Google Play Store\n",
    "scrapreview = reviews_all(\n",
    "    'com.gojek.app',       # ID aplikasi Gojek\n",
    "    lang='id',             # Bahasa ulasan (Bahasa Indonesia)\n",
    "    country='id',          # Negara (Indonesia)\n",
    "    sort=Sort.MOST_RELEVANT, # Urutan ulasan berdasarkan relevansi\n",
    "    count=11000            # Mengambil hingga 10.000 ulasan\n",
    ")\n",
    "\n",
    "scrapreview[:5]"
   ]
  },
  {
   "cell_type": "code",
   "execution_count": null,
   "metadata": {},
   "outputs": [],
   "source": [
    "import pandas as pd\n",
    "\n",
    "# Konversi list of dict ke DataFrame\n",
    "df_reviews = pd.DataFrame(scrapreview)\n",
    "\n",
    "# Simpan semua kolom ke file CSV\n",
    "df_reviews.to_csv('ulasan_aplikasi_Most_Relevant.csv', index=False, encoding='utf-8')"
   ]
  }
 ],
 "metadata": {
  "kernelspec": {
   "display_name": "Python 3",
   "language": "python",
   "name": "python3"
  },
  "language_info": {
   "codemirror_mode": {
    "name": "ipython",
    "version": 3
   },
   "file_extension": ".py",
   "mimetype": "text/x-python",
   "name": "python",
   "nbconvert_exporter": "python",
   "pygments_lexer": "ipython3",
   "version": "3.10.6"
  }
 },
 "nbformat": 4,
 "nbformat_minor": 2
}
